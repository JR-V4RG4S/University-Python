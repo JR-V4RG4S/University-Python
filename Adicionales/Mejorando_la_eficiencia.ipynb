{
 "cells": [
  {
   "cell_type": "markdown",
   "metadata": {},
   "source": [
    "## **Búsqueda Logaritmica**\n",
    "Utilizando la búsqueda logaritmica podemos mejorar los tiempos de ejecución al recorrer las listas\n",
    "\n",
    "En vez de recorrer la lista elemento por elemento podemos utilizar la búsqueda logaritmica para partir desde el medio cada vez hasta encontrar el elemento deseado, siendo un resultado más óptimo. "
   ]
  },
  {
   "cell_type": "code",
   "execution_count": null,
   "metadata": {},
   "outputs": [],
   "source": []
  }
 ],
 "metadata": {
  "language_info": {
   "name": "python"
  }
 },
 "nbformat": 4,
 "nbformat_minor": 2
}
