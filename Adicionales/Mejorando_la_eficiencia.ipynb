{
 "cells": [
  {
   "cell_type": "markdown",
   "metadata": {},
   "source": [
    "## **Búsqueda Logaritmica**\n",
    "Utilizando la búsqueda logaritmica podemos mejorar los tiempos de ejecución al recorrer las listas\n",
    "\n",
    "En vez de recorrer la lista elemento por elemento podemos utilizar la búsqueda logaritmica para partir desde el medio cada vez hasta encontrar el elemento deseado, siendo un resultado más óptimo. "
   ]
  },
  {
   "cell_type": "code",
   "execution_count": null,
   "metadata": {},
   "outputs": [],
   "source": []
  },
  {
   "cell_type": "markdown",
   "metadata": {},
   "source": [
    "## **Ordenamiento de listas: Merge Sort** \n",
    "El algoritmo de ordenamiento por mezcla (Merge sort) es un algoritmo recursivo para ordenar la matriz dada. Sigue el enfoque de divide y vencerás.\n",
    "\n",
    "El algoritmo de clasificación por fusión divide la matriz en dos mitades y las clasifica por separado.\n",
    "Después de ordenar las dos mitades de la matriz, las fusiona en una sola matriz ordenada.\n",
    "\n",
    "Como es un algoritmo recursivo, divide la matriz hasta que la matriz se convierte en la más simple (matriz con un elemento) para ordenar.\n"
   ]
  },
  {
   "cell_type": "markdown",
   "metadata": {},
   "source": []
  }
 ],
 "metadata": {
  "language_info": {
   "name": "python"
  }
 },
 "nbformat": 4,
 "nbformat_minor": 2
}
