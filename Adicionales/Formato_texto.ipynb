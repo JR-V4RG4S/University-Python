{
 "cells": [
  {
   "cell_type": "markdown",
   "metadata": {},
   "source": [
    "### **Formatenado vista**\n",
    "Podemos darle un poco de formato a las impresiones por consola realizando lo siguiente:"
   ]
  },
  {
   "cell_type": "markdown",
   "metadata": {},
   "source": [
    "**Centrando texto y añadiendo caracteres**"
   ]
  },
  {
   "cell_type": "code",
   "execution_count": 1,
   "metadata": {},
   "outputs": [
    {
     "name": "stdout",
     "output_type": "stream",
     "text": [
      "===================Menu inicial===================\n"
     ]
    }
   ],
   "source": [
    "print('Menu inicial'.center(50,'='))"
   ]
  },
  {
   "cell_type": "markdown",
   "metadata": {},
   "source": [
    "### **Plantillas String**\n",
    "\n",
    "El módulo string también nos permite usar plantillas con interpolación de variables. Algo similar a los f-strings pero con otro tipo de sintaxis.\n",
    "\n",
    "Lo primero es definir la plantilla. Las variables que queramos interporlar deben ir precedidas del signo dólar $:\n",
    "\n",
    "**Caso de Uso** es similar que las variables pero hay casos donde sí es muy oportuno utilizarlo, como el siguiente, donde solo es necesario cambiar una parte y no repetir toda la línea"
   ]
  },
  {
   "cell_type": "code",
   "execution_count": 2,
   "metadata": {},
   "outputs": [
    {
     "name": "stdout",
     "output_type": "stream",
     "text": [
      "https://python.org/3/library/string.html\n",
      "https://python.org/3/library/re.html\n",
      "https://python.org/3/library/difflib.html\n"
     ]
    }
   ],
   "source": [
    "from string import Template\n",
    "\n",
    "urlbase = Template('https://python.org/3/library/$module.html')\n",
    "for module in ('string', 're', 'difflib' ):\n",
    "    url = urlbase.substitute(module=module)\n",
    "    print(url)\n"
   ]
  }
 ],
 "metadata": {
  "kernelspec": {
   "display_name": "Python 3",
   "language": "python",
   "name": "python3"
  },
  "language_info": {
   "codemirror_mode": {
    "name": "ipython",
    "version": 3
   },
   "file_extension": ".py",
   "mimetype": "text/x-python",
   "name": "python",
   "nbconvert_exporter": "python",
   "pygments_lexer": "ipython3",
   "version": "3.11.0"
  }
 },
 "nbformat": 4,
 "nbformat_minor": 2
}
