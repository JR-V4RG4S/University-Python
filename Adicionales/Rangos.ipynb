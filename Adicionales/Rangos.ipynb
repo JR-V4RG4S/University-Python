{
 "cells": [
  {
   "cell_type": "markdown",
   "metadata": {},
   "source": [
    "#### **Imprimir dentro de un rango**\n",
    "\n",
    "para imprimir dentro de un rango de valores podemos utilizar la siguiente funcionalidad <br>\n",
    "**Número Inicial <= Rango <= Número Final**"
   ]
  },
  {
   "cell_type": "code",
   "execution_count": 3,
   "metadata": {},
   "outputs": [
    {
     "name": "stdout",
     "output_type": "stream",
     "text": [
      "Fuera de rango: 1\n",
      "En el rango: 2\n",
      "En el rango: 3\n",
      "En el rango: 4\n",
      "Fuera de rango: 5\n",
      "Fuera de rango: 6\n",
      "\n"
     ]
    }
   ],
   "source": [
    "# Imprimimos dentro del rango 2 - 4\n",
    "notas = [1,2,3,4,5,6]\n",
    "\n",
    "for i in range (len(notas)): \n",
    "    if 2 <= notas[i] <= 4:\n",
    "        print (f'En el rango: {notas[i]}')\n",
    "    else: \n",
    "        print(\"Fuera de rango:\",notas[i])        \n",
    "print()"
   ]
  },
  {
   "cell_type": "markdown",
   "metadata": {},
   "source": [
    "**Números fuera de un rango:**\n",
    "para imprimir números fuera de un rango usamos el mismo código anterior y sólo cambiamos el resultado <br>"
   ]
  },
  {
   "cell_type": "code",
   "execution_count": 7,
   "metadata": {},
   "outputs": [
    {
     "name": "stdout",
     "output_type": "stream",
     "text": [
      "En el rango: 1\n",
      "Fuera de rango: 2\n",
      "Fuera de rango: 3\n",
      "Fuera de rango: 4\n",
      "En el rango: 5\n",
      "En el rango: 6\n",
      "\n"
     ]
    }
   ],
   "source": [
    "# Imprimimos en un rango donde sean menor que 2 y mayor que 4 (< 2 y > 4)\n",
    "notas = [1,2,3,4,5,6]\n",
    "\n",
    "for i in range (len(notas)): \n",
    "    if 2 <= notas[i] <= 4:\n",
    "        print(\"Fuera de rango:\",notas[i])\n",
    "    else:         \n",
    "        print (f'En el rango: {notas[i]}')        \n",
    "print()"
   ]
  }
 ],
 "metadata": {
  "kernelspec": {
   "display_name": "Python 3",
   "language": "python",
   "name": "python3"
  },
  "language_info": {
   "codemirror_mode": {
    "name": "ipython",
    "version": 3
   },
   "file_extension": ".py",
   "mimetype": "text/x-python",
   "name": "python",
   "nbconvert_exporter": "python",
   "pygments_lexer": "ipython3",
   "version": "3.11.0"
  }
 },
 "nbformat": 4,
 "nbformat_minor": 2
}
