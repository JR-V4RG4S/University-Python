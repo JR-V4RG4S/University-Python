{
 "cells": [
  {
   "cell_type": "markdown",
   "metadata": {},
   "source": [
    "## Entorno virtual en VSCode\n",
    "\n",
    "Para realizar la instalación del entorno virtual en visual studio code, primero necesitamos haber realizado con anterioridad unos pasos:"
   ]
  },
  {
   "cell_type": "markdown",
   "metadata": {},
   "source": [
    "+ Tener instalado Python en el ordenador \n",
    "+ Haber puesto el Path donde corresponde para que este funcione\n",
    "+ Tener instalado el Visual Studio Code"
   ]
  },
  {
   "cell_type": "markdown",
   "metadata": {},
   "source": [
    "La forma más sencilla en la que funciona es: \n",
    "\n",
    "\n",
    "**1.** Creamos la carpeta en el lugar donde querramos utilizar <br>\n",
    "**2.** Damos clic derecho en ella y le damos a **abrir con Code** <br>\n",
    "**3.** hacemos clic derecho dentro del folder y seleccionamos **Open in integrated terminal**\n",
    "\n",
    "una vez que esté abierto la misma, ponemos el siguiente código "
   ]
  },
  {
   "cell_type": "markdown",
   "metadata": {},
   "source": [
    "python -m venv env"
   ]
  },
  {
   "cell_type": "markdown",
   "metadata": {},
   "source": [
    "+ pulsamos enter, esperamos que se cree la carpeta **env**\n",
    "+ luego ponemos el siguiente código"
   ]
  },
  {
   "cell_type": "markdown",
   "metadata": {},
   "source": [
    ".\\env\\Scripts\\activate"
   ]
  },
  {
   "cell_type": "markdown",
   "metadata": {},
   "source": [
    "Para salir escribimos: **Exit**"
   ]
  },
  {
   "cell_type": "markdown",
   "metadata": {},
   "source": [
    "### **Abriendo en otro momento**\n",
    "+ Abrimos vsCode \n",
    "+ Hacemos clic derecho en la carpeta venv\n",
    "+ seleccionamos **Open in integred terminal**\n",
    "+ luego ponemos:"
   ]
  },
  {
   "cell_type": "markdown",
   "metadata": {},
   "source": [
    ".\\Scripts\\activate"
   ]
  },
  {
   "cell_type": "markdown",
   "metadata": {},
   "source": [
    "y ahora con ello tenemos activado el entorno virtual "
   ]
  },
  {
   "cell_type": "markdown",
   "metadata": {},
   "source": [
    "### **Instalando Djando**\n"
   ]
  },
  {
   "cell_type": "markdown",
   "metadata": {},
   "source": [
    "Siguiendo el paso anterior, ahora en la consola con el entorno virtual activado, escribimos:"
   ]
  },
  {
   "cell_type": "markdown",
   "metadata": {},
   "source": [
    "python -m pip install django"
   ]
  }
 ],
 "metadata": {
  "language_info": {
   "name": "python"
  }
 },
 "nbformat": 4,
 "nbformat_minor": 2
}
