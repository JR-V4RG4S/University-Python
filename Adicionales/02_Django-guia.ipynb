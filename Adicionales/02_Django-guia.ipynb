{
 "cells": [
  {
   "cell_type": "markdown",
   "metadata": {},
   "source": [
    "## **Guia de Django**\n",
    "\n",
    "Para la instalacion ver primero la guia de **Entorno_virtual**\n",
    "\n",
    "**Índice**   \n",
    "1. [Componentes Django (Opcional)](#id1)\n",
    "2. [Creando un proyecto de Django](#id2)\n",
    "3. [Iniciar el Servidor Web](#id3)\n",
    "4. [Creando una APP](#id4)\n",
    "5. [Creando Views](#id5)\n",
    "6. [Herencia Múltiple](#id6)\n",
    "7. [Metodo MRO](#id7)\n",
    "8. [Clases Abstractas](#id8)\n",
    "9. [Método Estático](#id9)\n",
    "10. [Método de Clase](#id10)\n",
    "11. [Herencia](#id11)\n",
    "12. [Herencia](#id12)\n",
    "\n",
    "\n",
    "<div id='id1' />"
   ]
  },
  {
   "cell_type": "markdown",
   "metadata": {},
   "source": [
    "#### **1. Componentes Django**"
   ]
  },
  {
   "cell_type": "markdown",
   "metadata": {},
   "source": [
    "Algunos componentes que encontraremos dentro de django son: \n",
    "\n",
    "usamos de ejemplo **sap** como nombre del proyecto. \n",
    "\n",
    "+ **carpeta general: sap** engloba todo el proyecto\n",
    "+ **carpeta interna: sap** incluye los archivos mas importantes de configuración de la aplicación \n",
    "    + **__init__.py** Es un paquete de python \n",
    "    + **asgi.py** Configura el despliegue de la aplicación cuando ya utilicemos un servidor \n",
    "    + **settings.py**  En el cual configuramos varias características de django\n",
    "        + Agregamos aplicaciones \n",
    "        + configuramos la conexion de bbdd\n",
    "    + **urls** Configuramos las urls \n",
    "    + **wsgi** Para el despliegue de la aplicacion en un servidor"
   ]
  },
  {
   "cell_type": "markdown",
   "metadata": {},
   "source": [
    "**Ver la version de django:** django-admin "
   ]
  },
  {
   "cell_type": "markdown",
   "metadata": {},
   "source": [
    "<div id='id2' />"
   ]
  },
  {
   "cell_type": "markdown",
   "metadata": {},
   "source": [
    "### **2. Creando un proyecto de Django**"
   ]
  },
  {
   "cell_type": "markdown",
   "metadata": {},
   "source": [
    "**Nota:** Asegurarse de que en la terminal nos indique que estamos en la carpeta general y no dentro de env\n",
    "\n",
    "En la terminal con venv activado ponemos lo siguiente:"
   ]
  },
  {
   "cell_type": "code",
   "execution_count": null,
   "metadata": {
    "vscode": {
     "languageId": "plaintext"
    }
   },
   "outputs": [],
   "source": [
    "django-admin startproject (establecemos un nombre)"
   ]
  },
  {
   "cell_type": "markdown",
   "metadata": {},
   "source": [
    "<div id='id3' />"
   ]
  },
  {
   "cell_type": "markdown",
   "metadata": {},
   "source": [
    "\n",
    "### **3. INICIAR EL SERVIDOR WEB** "
   ]
  },
  {
   "cell_type": "markdown",
   "metadata": {},
   "source": [
    "Ahora debemos ejecutar el archivo manage.py <br>\n",
    "\n",
    "+ para ello nos movemos a la carpeta con el siguiente código:"
   ]
  },
  {
   "cell_type": "code",
   "execution_count": null,
   "metadata": {
    "vscode": {
     "languageId": "plaintext"
    }
   },
   "outputs": [],
   "source": [
    "cd (nombre de carpeta externa)"
   ]
  },
  {
   "cell_type": "markdown",
   "metadata": {},
   "source": [
    "+ Ahora para correr el servidor ejecutamos:"
   ]
  },
  {
   "cell_type": "code",
   "execution_count": null,
   "metadata": {
    "vscode": {
     "languageId": "plaintext"
    }
   },
   "outputs": [],
   "source": [
    "python manage.py runserver"
   ]
  },
  {
   "cell_type": "markdown",
   "metadata": {},
   "source": [
    "para detener el servicio web ejecutado sólo presionamos **CTRL + C**\n",
    "<div id='id4' />"
   ]
  },
  {
   "cell_type": "markdown",
   "metadata": {},
   "source": [
    "### **4. CREANDO UNA APP**"
   ]
  },
  {
   "cell_type": "markdown",
   "metadata": {},
   "source": [
    "En consola, estando dentro de la carpeta externa ponemos el comando:"
   ]
  },
  {
   "cell_type": "code",
   "execution_count": null,
   "metadata": {
    "vscode": {
     "languageId": "plaintext"
    }
   },
   "outputs": [],
   "source": [
    "python manage.py startapp webapp"
   ]
  },
  {
   "cell_type": "markdown",
   "metadata": {},
   "source": [
    "**Nota:** Podemos elegir el nombre que queramos para la APP **(en vez de webapp)**"
   ]
  },
  {
   "cell_type": "markdown",
   "metadata": {},
   "source": [
    "Una vez que hemos creado la app nueva, Dentro del archivo **settings.py** entramos y apregamos webapp en **INSTALLED_APPS**\n",
    "ejemplo: "
   ]
  },
  {
   "cell_type": "code",
   "execution_count": null,
   "metadata": {
    "vscode": {
     "languageId": "plaintext"
    }
   },
   "outputs": [],
   "source": [
    "INSTALLED_APPS = [\n",
    "    'django.contrib.admin',\n",
    "    'django.contrib.auth',\n",
    "    'django.contrib.contenttypes',\n",
    "    'django.contrib.sessions',\n",
    "    'django.contrib.messages',\n",
    "    'django.contrib.staticfiles',\n",
    "    'webapp', \n",
    "    ]"
   ]
  },
  {
   "cell_type": "markdown",
   "metadata": {},
   "source": [
    "<div id='id5' />"
   ]
  },
  {
   "cell_type": "markdown",
   "metadata": {},
   "source": [
    "### **5. CREANDO VIEWS**"
   ]
  },
  {
   "cell_type": "markdown",
   "metadata": {},
   "source": [
    "Creamos una view de **welcome** y de **despedida**, la primera que se ejecute al iniciar el servidor web"
   ]
  },
  {
   "cell_type": "markdown",
   "metadata": {},
   "source": [
    "**5.1 En la carpeta de la APP**\n",
    "\n",
    "Siguiendo con el ejemplo de la APP de **webapp** <br>\n",
    "Dentro de la carpeta **webapp**, en el archivo **views.py** ponemos lo siguiente:"
   ]
  },
  {
   "cell_type": "code",
   "execution_count": null,
   "metadata": {
    "vscode": {
     "languageId": "plaintext"
    }
   },
   "outputs": [],
   "source": [
    "from django.http import HttpResponse\n",
    "from django.shortcuts import render\n",
    "\n",
    "def welcome(request):\n",
    "    return render(request,'welcome.html')\n",
    "\n",
    "def despedida(request):\n",
    "    return HttpResponse('Despedida desde Django')\n"
   ]
  },
  {
   "cell_type": "markdown",
   "metadata": {},
   "source": [
    "+ Importamos la librería\n",
    "+ Creamos funciones para las views\n",
    "+ La view de welcome tendrá un enlace de una página de html \n",
    "+ La view de despedida será sólo el texto plano de despedida"
   ]
  },
  {
   "cell_type": "markdown",
   "metadata": {},
   "source": [
    "**5.2 En la carpeta del proyecto** \n",
    "\n",
    "En la carpeta interna del proyecto (la que tiene el mismo nombre que la externa), agregamos lo siguiente:"
   ]
  },
  {
   "cell_type": "code",
   "execution_count": null,
   "metadata": {
    "vscode": {
     "languageId": "plaintext"
    }
   },
   "outputs": [],
   "source": [
    "from django.contrib import admin\n",
    "from django.urls import path\n",
    "\n",
    "from webapp.views import welcome, despedida\n",
    "\n",
    "urlpatterns = [\n",
    "    path('admin/', admin.site.urls),\n",
    "    path('', welcome),\n",
    "    path('despedida/', despedida),\n",
    "    \n",
    "]"
   ]
  },
  {
   "cell_type": "markdown",
   "metadata": {},
   "source": [
    "En ese codigo estamos: \n",
    "+ Importando los datos de la APP **webapp**\n",
    "+ Estableciendo en la página de inicio el template de **welcome**  path('', welcome),\n",
    "+ Estableciento la página de despedida:  path('despedida/', despedida),"
   ]
  },
  {
   "cell_type": "markdown",
   "metadata": {},
   "source": [
    "**5.3 En la carpeta de la APP** <br>\n",
    "Primero ingresamos a la carpeta APP (**webapp**)\n",
    "\n",
    "+ Creamos una nueva carpeta llamada **templates**, dentro de esta pondremos los archivos html\n",
    "+ Creamos un archivo html que tenga el nombre de **welcome.html**, este nombre lo establecimos en el punto **5.1**\n"
   ]
  },
  {
   "cell_type": "markdown",
   "metadata": {},
   "source": [
    "Una vez realizado ello correctamente, volvemos a lanzar el servidor web con:"
   ]
  },
  {
   "cell_type": "code",
   "execution_count": null,
   "metadata": {
    "vscode": {
     "languageId": "plaintext"
    }
   },
   "outputs": [],
   "source": [
    "py manage.py runserver"
   ]
  },
  {
   "cell_type": "markdown",
   "metadata": {},
   "source": []
  }
 ],
 "metadata": {
  "language_info": {
   "name": "python"
  }
 },
 "nbformat": 4,
 "nbformat_minor": 2
}
