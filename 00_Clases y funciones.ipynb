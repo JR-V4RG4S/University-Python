{
 "cells": [
  {
   "cell_type": "markdown",
   "metadata": {},
   "source": [
    "# **POO (Object Oriented Programming)**\n",
    "Dentro de la programacion orientada a objetos podemos encontrar diversas funcionalidades y algunos cambios que ocurren dentro de la misma\n",
    "\n",
    "**Índice**   \n",
    "1. [Clases](#id1)\n",
    "2. [Encapsulamiento](#id2)\n",
    "3. [GET / SET](#id3)\n",
    "4. [Herencia](#id4)\n",
    "5. [Sobreescritura __str__](#id5)\n",
    "6. [Herencia Múltiple](#id6)\n",
    "7. [Metodo MRO](#id7)\n",
    "8. [Clases Abstractas](#id8)\n",
    "9. [Método Estático](#id9)\n",
    "10. [Método de Clase](#id10)\n",
    "11. [Herencia](#id11)\n",
    "12. [Herencia](#id12)\n",
    "\n",
    "\n",
    "<div id='id1' />"
   ]
  },
  {
   "cell_type": "markdown",
   "metadata": {},
   "source": [
    "### **Clases (class)** \n",
    "Una clase es una plantilla de la cual vamos a poder crear Instancias u Objetos"
   ]
  },
  {
   "cell_type": "markdown",
   "metadata": {},
   "source": [
    "\n",
    "**Instancia**: Crear una “instancia” de una clase significa crear un objeto de esa clase. <br>\n",
    "Por ejemplo, si juan = Persona(\"Juan\"), entonces juan es una instancia de la clase Persona.\n",
    "\n",
    "**Objetos**: Un objeto es una instancia de una clase. <br>\n",
    "Por ejemplo, si tienes una clase Persona, cada persona específica (como “Juan” o “María”) sería un objeto de la clase Persona. <br>\n",
    "Cada objeto tiene su propio conjunto de atributos.\n",
    "\n",
    "**Métodos**: Son funciones que pertenecen a una clase. Los métodos a menudo operan en los atributos de la clase. Por ejemplo, podrías tener un método saludar() en la clase Persona que imprime un saludo que incluye el nombre de la persona.\n",
    "\n",
    "+ Cuando trabajamos con clases, una función (**def**) pasa a llamarse método\n",
    "\n",
    "**Atributos**: Son variables que pertenecen a una instancia de una clase. Cada instancia de una clase puede tener valores diferentes para sus atributos. Por ejemplo, si tienes una clase Persona, un atributo podría ser nombre. Cada persona (instancia de la clase Persona) tendría un nombre diferente.\n",
    "\n",
    "+ Cuando trabajamos con clases, una variable (**string,int,bool,etc**) dentro de un método (**def**) pasa a llamarse Atributo"
   ]
  },
  {
   "cell_type": "code",
   "execution_count": 2,
   "metadata": {},
   "outputs": [
    {
     "name": "stdout",
     "output_type": "stream",
     "text": [
      "juan\n"
     ]
    }
   ],
   "source": [
    "class Persona:                  # Creamos la clase\n",
    "    def __init__(self,nombre):  # Definimos el método init y los parámetros\n",
    "        self.nombre = nombre    # Cremos el atributo nombre\n",
    "    \n",
    "persona1 = Persona(\"juan\")      # Creamos la instancia persona1 de la clase Persona\n",
    "print(persona1.nombre)          # Imprimimos el atributo del objeto persona1 "
   ]
  },
  {
   "cell_type": "markdown",
   "metadata": {},
   "source": [
    "+ La palabra reservada **self** permite agregar el atributo a la clase\n",
    "+ Persona(\"Juan\") es una instancia de la clase \n",
    "<div id='id2' />"
   ]
  },
  {
   "cell_type": "markdown",
   "metadata": {},
   "source": [
    "### **Encapsulamiento** <a name=\"id2\"></a> <br>\n",
    "El encapsulamiento consiste en encapsular los datos de una clase para que estos no seas accedidos desde fuera de ella "
   ]
  },
  {
   "cell_type": "code",
   "execution_count": 3,
   "metadata": {},
   "outputs": [
    {
     "name": "stdout",
     "output_type": "stream",
     "text": [
      "pepe\n"
     ]
    }
   ],
   "source": [
    "class Persona:                  \n",
    "    def __init__(self,nombre):  \n",
    "        self.nombre = nombre    \n",
    "    \n",
    "persona1 = Persona(\"juan\")      \n",
    "persona1.nombre = \"pepe\"    # Esto No se debería de realizar, estamos accediendo al atributo de la clase y modificando su valor\n",
    "print(persona1.nombre)"
   ]
  },
  {
   "cell_type": "markdown",
   "metadata": {},
   "source": [
    "**Encapsulando Atributos** \n",
    "Para poder encapsular los atributos de una clase en principo por delante del nombre deberiamos colocar un **_nombreatri** <br>\n",
    "aunque esté definido de esa manera python, aún permite acceder a los atributos, entonces para que no ocurra ello <br>\n",
    "se utiliza 2 guiones bajo **__nombreatri**"
   ]
  },
  {
   "cell_type": "code",
   "execution_count": 4,
   "metadata": {},
   "outputs": [
    {
     "ename": "AttributeError",
     "evalue": "'Persona' object has no attribute '__nombre'",
     "output_type": "error",
     "traceback": [
      "\u001b[1;31m---------------------------------------------------------------------------\u001b[0m",
      "\u001b[1;31mAttributeError\u001b[0m                            Traceback (most recent call last)",
      "Cell \u001b[1;32mIn[4], line 6\u001b[0m\n\u001b[0;32m      3\u001b[0m         \u001b[38;5;28mself\u001b[39m\u001b[38;5;241m.\u001b[39m__nombre \u001b[38;5;241m=\u001b[39m nombre    \n\u001b[0;32m      5\u001b[0m persona1 \u001b[38;5;241m=\u001b[39m Persona(\u001b[38;5;124m\"\u001b[39m\u001b[38;5;124mjuan\u001b[39m\u001b[38;5;124m\"\u001b[39m)      \n\u001b[1;32m----> 6\u001b[0m \u001b[38;5;28mprint\u001b[39m(\u001b[43mpersona1\u001b[49m\u001b[38;5;241;43m.\u001b[39;49m\u001b[43m__nombre\u001b[49m)\n",
      "\u001b[1;31mAttributeError\u001b[0m: 'Persona' object has no attribute '__nombre'"
     ]
    }
   ],
   "source": [
    "class Persona:                  \n",
    "    def __init__(self,nombre):  \n",
    "        self.__nombre = nombre   # Actualizamos el nombre con __ por delante del atributo\n",
    "    \n",
    "persona1 = Persona(\"juan\")      \n",
    "print(persona1.__nombre)"
   ]
  },
  {
   "cell_type": "markdown",
   "metadata": {},
   "source": [
    "Como podemos observar ya no es posible imprimir el nombre del atributo desde fuera de la clase, por lo cual el encapsulamiento está funcionando correctamente.\n",
    "\n",
    "Pero de igual manera necesitaremos luego traer o editar ese atributo, para ello se utilizan unos métodos específicos.\n",
    "<div id='id3' />"
   ]
  },
  {
   "cell_type": "markdown",
   "metadata": {},
   "source": [
    "### **GET y SET** "
   ]
  },
  {
   "cell_type": "markdown",
   "metadata": {},
   "source": [
    "Los métodos **GET** y **SET** nos permiten poder mostrar y editar los atributos encapsulados, para hacer uso de los mismos <br>\n",
    "hay que utilizar un decorador específico para cada uno:\n",
    "\n",
    "Para poder recuperar el atributo (**GET**) utilizamos el decorador **@property**"
   ]
  },
  {
   "cell_type": "code",
   "execution_count": 5,
   "metadata": {},
   "outputs": [
    {
     "name": "stdout",
     "output_type": "stream",
     "text": [
      "juan\n"
     ]
    }
   ],
   "source": [
    "class Persona:                  \n",
    "    def __init__(self,nombre):  \n",
    "        self.__nombre = nombre   \n",
    "    \n",
    "    @property                    # Colocamos el decorador para el uso de Get\n",
    "    def nombre(self):            # Creamos un método para recuperar el atributo self.__nombre\n",
    "        return self.__nombre\n",
    "\n",
    "persona1 = Persona(\"juan\")      \n",
    "print(persona1.nombre)           # Mandamos a llamar al método y no al atributo "
   ]
  },
  {
   "cell_type": "markdown",
   "metadata": {},
   "source": [
    "Para poder modificar el atributo (**SET**) utilizamos el decorador **@NombreAtributo.setter**"
   ]
  },
  {
   "cell_type": "code",
   "execution_count": 6,
   "metadata": {},
   "outputs": [
    {
     "name": "stdout",
     "output_type": "stream",
     "text": [
      "juan\n",
      "pepe grillo\n"
     ]
    }
   ],
   "source": [
    "class Persona:                  \n",
    "    def __init__(self,nombre):  \n",
    "        self.__nombre = nombre   \n",
    "\n",
    "    @property                    \n",
    "    def nombre(self):            \n",
    "        return self.__nombre\n",
    "    \n",
    "    @nombre.setter                   # Colocamos el decorador con el nombre de la variable que nos interesa con .setter\n",
    "    def nombre(self, value):         # Creamos un método con el atributo self y otro que almacenará el nuevo valor\n",
    "        self.__nombre = value        # al atributo self.__nombre le asignamos el valor de value\n",
    "\n",
    "persona1 = Persona(\"juan\")      \n",
    "print(persona1.nombre)               \n",
    "persona1.nombre = \"pepe grillo\"      # Accedemos al método y asignamos un nuevo valor al atributo\n",
    "print(persona1.nombre)               # imprimimos el atributo con su nuevo valor asignado \n"
   ]
  },
  {
   "cell_type": "markdown",
   "metadata": {},
   "source": [
    "<div id='id4' />"
   ]
  },
  {
   "cell_type": "markdown",
   "metadata": {},
   "source": [
    "### **HERENCIA**"
   ]
  },
  {
   "cell_type": "markdown",
   "metadata": {},
   "source": [
    "La herencia consiste en que exista una **Clase principal** (también llamada Clase padre) y *subclases* (también llamada Clases hijas)\n",
    "\n",
    "Las subclases herendan las características de la Clase padre, pero ademas pueden tener sus propias características (**atributos y métodos**) <br>\n",
    "**Dato**: todas las clases padres heredan de la clase **object** de manera indirecta"
   ]
  },
  {
   "cell_type": "code",
   "execution_count": 7,
   "metadata": {},
   "outputs": [
    {
     "name": "stdout",
     "output_type": "stream",
     "text": [
      "juan\n",
      "4000\n"
     ]
    }
   ],
   "source": [
    "class Persona:                              # Creamos la clase Padre\n",
    "    def __init__(self, nombre):\n",
    "        self.nombre = nombre \n",
    "\n",
    "class Empleado(Persona):                    # Creamos la clase Hija, heredando las características de la clase padre\n",
    "    def __init__(self, nombre, sueldo):     # creamos el método init y pasamos el atributo de la clase padre y asignamos un atributo propio\n",
    "        super().__init__(nombre)            # Llamamos el constructor de la clase padre y traemos sus atributos\n",
    "        self.sueldo = sueldo                # Creamos el atributo sueldo\n",
    "\n",
    "Empleado1 = Empleado(\"juan\",4000)           # Creamos el objeto Empleado1 y asignamos los valores para los atributos de la clase\n",
    "print(Empleado1.nombre)                     # Imprimimos los atributos del objeto Empleado1 \n",
    "print(Empleado1.sueldo)"
   ]
  },
  {
   "cell_type": "markdown",
   "metadata": {},
   "source": [
    "<div id='id5' />"
   ]
  },
  {
   "cell_type": "markdown",
   "metadata": {},
   "source": [
    "### **SOBREESCRITURA (override) __ STR __()** "
   ]
  },
  {
   "cell_type": "markdown",
   "metadata": {},
   "source": [
    "El metodo .__ str __ ya se encuentra definida en la clase padre **(object)** por lo cual procederemos a sobreescribirla"
   ]
  },
  {
   "cell_type": "code",
   "execution_count": 8,
   "metadata": {},
   "outputs": [
    {
     "name": "stdout",
     "output_type": "stream",
     "text": [
      "<__main__.Persona object at 0x000002A9B66CBD10>\n"
     ]
    }
   ],
   "source": [
    "class Persona:                              # Creamos la clase Padre\n",
    "    def __init__(self, nombre):\n",
    "        self.nombre = nombre \n",
    "\n",
    "persona1 = Persona(\"luis\")\n",
    "print(persona1)"
   ]
  },
  {
   "cell_type": "markdown",
   "metadata": {},
   "source": [
    "Si sólo tratamos de imprimir el objeto **persona1** lo que nos muestra esto es el espacio en memoria y no los valores que tiene el objeto\n",
    "Para que nos muestre lo que queramos al mandar a imprimir el objeto, utilizaremos el método **__ str __**"
   ]
  },
  {
   "cell_type": "code",
   "execution_count": 9,
   "metadata": {},
   "outputs": [
    {
     "name": "stdout",
     "output_type": "stream",
     "text": [
      "el nombre de la persona es: luis\n"
     ]
    }
   ],
   "source": [
    "class Persona:                              \n",
    "    def __init__(self, nombre):\n",
    "        self.nombre = nombre \n",
    "\n",
    "    def __str__(self):                                          # Implementamos el método str\n",
    "        return f'el nombre de la persona es: {self.nombre}'     # Indicamos que recibiremos cuando se imprima el objeto\n",
    "\n",
    "persona1 = Persona(\"luis\")\n",
    "print(persona1)                                                 # Imprimimos el objeto"
   ]
  },
  {
   "cell_type": "markdown",
   "metadata": {},
   "source": [
    "De esta manera podemos cambiar lo que se mostrará al mandar a imprimir al objeto directamente\n",
    "\n",
    "**Sobreescritura en las clases hijas**"
   ]
  },
  {
   "cell_type": "markdown",
   "metadata": {},
   "source": [
    "+ **Complementando datos**: Para poder realizar la sobreescritura en las clases hijas <br>\n",
    "complementando los datos del __ str __ de la clase padre podemos realizar lo siguiente:"
   ]
  },
  {
   "cell_type": "code",
   "execution_count": 10,
   "metadata": {},
   "outputs": [],
   "source": [
    "class Empleado(Persona):                    \n",
    "    def __init__(self, nombre, sueldo):     \n",
    "        super().__init__(nombre)            \n",
    "        self.sueldo = sueldo                \n",
    "\n",
    "    def __str__(self):\n",
    "        return f'{super().__str__()} + el sueldo es: {self.sueldo}'    # implementamos el super().__str__()"
   ]
  },
  {
   "cell_type": "markdown",
   "metadata": {},
   "source": [
    "+ **Nuevos datos**: Si queremos realizar datos sin referencia a la clase padre <br>"
   ]
  },
  {
   "cell_type": "code",
   "execution_count": 11,
   "metadata": {},
   "outputs": [],
   "source": [
    "class Empleado(Persona):                    \n",
    "    def __init__(self, nombre, sueldo):     \n",
    "        super().__init__(nombre)            \n",
    "        self.sueldo = sueldo                \n",
    "\n",
    "    def __str__(self):                                         \n",
    "        return f'el sueldo es: {self.sueldo}'                 # solo llamamos al atributo de la clase empleado"
   ]
  },
  {
   "cell_type": "markdown",
   "metadata": {},
   "source": [
    "<div id='id6' />"
   ]
  },
  {
   "cell_type": "markdown",
   "metadata": {},
   "source": [
    "### **Herencia Múltiple**\n",
    "La Herencia múltiple sucede cuando una clase hereda de 2 o más clases padres "
   ]
  },
  {
   "cell_type": "markdown",
   "metadata": {},
   "source": [
    "<div id='id7' />"
   ]
  },
  {
   "cell_type": "markdown",
   "metadata": {},
   "source": [
    "### **Metodo MRO (Method Resolution Order)**"
   ]
  },
  {
   "cell_type": "markdown",
   "metadata": {},
   "source": [
    "Nos permite conocer la jerarquia de clases, el orden en el cual se van a llamar nuestras clases segun la jerarquía que hayamos definido "
   ]
  },
  {
   "cell_type": "code",
   "execution_count": 12,
   "metadata": {},
   "outputs": [
    {
     "name": "stdout",
     "output_type": "stream",
     "text": [
      "[<class '__main__.Empleado'>, <class '__main__.Persona'>, <class 'object'>]\n"
     ]
    }
   ],
   "source": [
    "print(Empleado.mro())       # lo ponemos en la clase hija para saber el orden de ejecucion que tiene"
   ]
  },
  {
   "cell_type": "markdown",
   "metadata": {},
   "source": [
    "<div id='id8' />"
   ]
  },
  {
   "cell_type": "markdown",
   "metadata": {},
   "source": [
    "### **Clases Abstractas**"
   ]
  },
  {
   "cell_type": "markdown",
   "metadata": {},
   "source": [
    "Nos sirve para obligar a las clases hijas a definir un método especifico dentro de ellas, no es necesario que en la clase padre tenga una funcionalidad, dado que en las clases si existirá la implementacion de la funcionalidad \n",
    "\n",
    "Si en una clase agregamos un método abstracto, toda la clase se vuelve abstracta, ya no podremos crear objetos o instancias de una clase abstracta, por lo cual sólo podremos crear objetos desde las clases hijas "
   ]
  },
  {
   "cell_type": "code",
   "execution_count": null,
   "metadata": {},
   "outputs": [],
   "source": [
    "from abc import ABC, abstractmethod         # Importamos la clase ABC y el decorador abstractmethod\n",
    "\n",
    "class Persona(ABC):                         # Heredamos desde la clase ABC\n",
    "\n",
    "    @abstractmethod                         # Aplicamos el método abstract \n",
    "    def calcular_ingresos(self):\n",
    "        pass "
   ]
  },
  {
   "cell_type": "markdown",
   "metadata": {},
   "source": [
    "+ Aplicando ello ahora todas las clases hijas se ven obligadas a implementar el método **calcular_ingresos**\n",
    "+ La clase persona ya no puede crear objetos o instancia de la clase porque pasa a convertirse en clase abstracta \n"
   ]
  },
  {
   "cell_type": "markdown",
   "metadata": {},
   "source": [
    "<div id='id9' />"
   ]
  },
  {
   "cell_type": "markdown",
   "metadata": {},
   "source": [
    "### **Método Estático**"
   ]
  },
  {
   "cell_type": "markdown",
   "metadata": {},
   "source": [
    "Los métodos estáticos no tienen acceso a ningún atributo de instancia o de clase. Por lo tanto, solo pueden trabajar con los argumentos que se les pasan. Esto los hace ideales para tareas que no dependen del estado de un objeto en particular."
   ]
  },
  {
   "cell_type": "code",
   "execution_count": null,
   "metadata": {},
   "outputs": [],
   "source": [
    "class MiClase:\n",
    "\n",
    "    variable_de_clase = 'valor de variable'\n",
    "\n",
    "    @staticmethod                               # Definimos el decorador del método estático\n",
    "    def mi_metodo_estatico():\n",
    "       print(MiClase.variable_de_clase)\n",
    "\n",
    "MiClase.mi_metodo_estatico()                    # podemos llamar el metodo directamente desde la clase, sin necesidad de crear una instancia\n"
   ]
  },
  {
   "cell_type": "markdown",
   "metadata": {},
   "source": [
    "<div id='id10' />"
   ]
  },
  {
   "cell_type": "markdown",
   "metadata": {},
   "source": [
    "### **Método de Clase**"
   ]
  },
  {
   "cell_type": "markdown",
   "metadata": {},
   "source": [
    "Los métodos de clase son similares que los estáticos con la principal diferencia que para llamar al método no es necesario llamarlo desde la clase primeramente, ya que si reciben un contexto de clase"
   ]
  },
  {
   "cell_type": "code",
   "execution_count": null,
   "metadata": {},
   "outputs": [],
   "source": [
    "class MiClase:    \n",
    "\n",
    "    variable_de_clase = 'valor de variable'\n",
    "\n",
    "    @classmethod                                # Definimos el decorador\n",
    "    def metodo_de_clase(cls):                   # pasamos el argumento cls (puede ser cualquier nombre)\n",
    "        print(cls.variable_de_clase)            # con la variable cls podemos acceder a la variable de clase\n",
    "\n",
    "MiClase.metodo_de_clase()                       # llamamos al metodo de clase"
   ]
  },
  {
   "cell_type": "markdown",
   "metadata": {},
   "source": [
    "<div id='id11' />"
   ]
  },
  {
   "cell_type": "markdown",
   "metadata": {},
   "source": [
    "### **Polimorfismo**"
   ]
  },
  {
   "cell_type": "markdown",
   "metadata": {},
   "source": [
    "Básicamente Polimorfismo significa múltiples formas en tiempo de ejecución, una variable puede ejecutar varios métodos de distintos objetos dependiendo del objeto en tiempo de ejecución.\n",
    "\n",
    "en resumen, ejecutar múltiples métodos en tiempo de ejecución dependiendo del objeto al cual se esté apuntando "
   ]
  },
  {
   "cell_type": "code",
   "execution_count": 1,
   "metadata": {},
   "outputs": [
    {
     "name": "stdout",
     "output_type": "stream",
     "text": [
      "Desplazandose con 4 ruedas\n",
      "Desplazandose con 2 ruedas\n",
      "Desplazandose con 8 ruedas\n"
     ]
    }
   ],
   "source": [
    "class Vehiculo():\n",
    "    def __init__(self, ruedas):\n",
    "        self.__ruedas = ruedas\n",
    "\n",
    "    def desplazarse(self):\n",
    "        print(f\"Desplazandose con {self.__ruedas} ruedas\")\n",
    "\n",
    "class Carro(Vehiculo):\n",
    "    def __init__(self):\n",
    "        super().__init__(4)\n",
    "\n",
    "class Moto(Vehiculo):\n",
    "    def __init__(self):\n",
    "        super().__init__(2)\n",
    "\n",
    "class Trailer(Vehiculo):\n",
    "    def __init__(self):\n",
    "        super().__init__(8)\n",
    "\n",
    "for vehiculo in Carro(), Moto(), Trailer():\n",
    "    vehiculo.desplazarse()"
   ]
  }
 ],
 "metadata": {
  "kernelspec": {
   "display_name": "Python 3",
   "language": "python",
   "name": "python3"
  },
  "language_info": {
   "codemirror_mode": {
    "name": "ipython",
    "version": 3
   },
   "file_extension": ".py",
   "mimetype": "text/x-python",
   "name": "python",
   "nbconvert_exporter": "python",
   "pygments_lexer": "ipython3",
   "version": "3.11.0"
  }
 },
 "nbformat": 4,
 "nbformat_minor": 2
}
