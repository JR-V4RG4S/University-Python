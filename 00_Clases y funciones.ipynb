{
 "cells": [
  {
   "cell_type": "markdown",
   "metadata": {},
   "source": [
    "# **POO (Object Oriented Programming)**\n",
    "Dentro de la programacion orientada a objetos podemos encontrar diversas funcionalidades y algunos cambios que ocurren dentro de la misma"
   ]
  },
  {
   "cell_type": "markdown",
   "metadata": {},
   "source": [
    "### **Clases (class)**\n",
    "Una clase es una plantilla de la cual vamos a poder crear Instancias u Objetos"
   ]
  },
  {
   "cell_type": "markdown",
   "metadata": {},
   "source": [
    "\n",
    "**Instancia**: Crear una “instancia” de una clase significa crear un objeto de esa clase. <br>\n",
    "Por ejemplo, si juan = Persona(\"Juan\"), entonces juan es una instancia de la clase Persona.\n",
    "\n",
    "**Objetos**: Un objeto es una instancia de una clase. <br>\n",
    "Por ejemplo, si tienes una clase Persona, cada persona específica (como “Juan” o “María”) sería un objeto de la clase Persona. <br>\n",
    "Cada objeto tiene su propio conjunto de atributos.\n",
    "\n",
    "**Métodos**: Son funciones que pertenecen a una clase. Los métodos a menudo operan en los atributos de la clase. Por ejemplo, podrías tener un método saludar() en la clase Persona que imprime un saludo que incluye el nombre de la persona.\n",
    "\n",
    "+ Cuando trabajamos con clases, una función (**def**) pasa a llamarse método\n",
    "\n",
    "**Atributos**: Son variables que pertenecen a una instancia de una clase. Cada instancia de una clase puede tener valores diferentes para sus atributos. Por ejemplo, si tienes una clase Persona, un atributo podría ser nombre. Cada persona (instancia de la clase Persona) tendría un nombre diferente.\n",
    "\n",
    "+ Cuando trabajamos con clases, una variable (**string,int,bool,etc**) dentro de un método (**def**) pasa a llamarse Atributo"
   ]
  },
  {
   "cell_type": "code",
   "execution_count": 2,
   "metadata": {},
   "outputs": [
    {
     "name": "stdout",
     "output_type": "stream",
     "text": [
      "juan\n"
     ]
    }
   ],
   "source": [
    "class Persona:                  # Creamos la clase\n",
    "    def __init__(self,nombre):  # Definimos el método init y los parámetros\n",
    "        self.nombre = nombre    # Cremos el atributo nombre\n",
    "    \n",
    "persona1 = Persona(\"juan\")      # Creamos la instancia persona1 de la clase Persona\n",
    "print(persona1.nombre)          # Imprimimos el atributo del objeto persona1 "
   ]
  },
  {
   "cell_type": "markdown",
   "metadata": {},
   "source": [
    "+ La palabra reservada **self** permite agregar el atributo a la clase\n",
    "+ Persona(\"Juan\") es una instancia de la clase "
   ]
  },
  {
   "cell_type": "markdown",
   "metadata": {},
   "source": [
    "### **Encapsulamiento**\n",
    "El encapsulamiento consiste en encapsular los datos de una clase para que estos no seas accedidos desde fuera de ella "
   ]
  },
  {
   "cell_type": "code",
   "execution_count": 3,
   "metadata": {},
   "outputs": [
    {
     "name": "stdout",
     "output_type": "stream",
     "text": [
      "pepe\n"
     ]
    }
   ],
   "source": [
    "class Persona:                  \n",
    "    def __init__(self,nombre):  \n",
    "        self.nombre = nombre    \n",
    "    \n",
    "persona1 = Persona(\"juan\")      \n",
    "persona1.nombre = \"pepe\"    # Esto No se debería de realizar, estamos accediendo al atributo de la clase y modificando su valor\n",
    "print(persona1.nombre)"
   ]
  },
  {
   "cell_type": "markdown",
   "metadata": {},
   "source": [
    "**Encapsulando Atributos**\n",
    "Para poder encapsular los atributos de una clase en principo por delante del nombre deberiamos colocar un **_nombreatri** <br>\n",
    "aunque esté definido de esa manera python, aún permite acceder a los atributos, entonces para que no ocurra ello <br>\n",
    "se utiliza 2 guiones bajo **__nombreatri**"
   ]
  },
  {
   "cell_type": "code",
   "execution_count": 4,
   "metadata": {},
   "outputs": [
    {
     "ename": "AttributeError",
     "evalue": "'Persona' object has no attribute '__nombre'",
     "output_type": "error",
     "traceback": [
      "\u001b[1;31m---------------------------------------------------------------------------\u001b[0m",
      "\u001b[1;31mAttributeError\u001b[0m                            Traceback (most recent call last)",
      "Cell \u001b[1;32mIn[4], line 6\u001b[0m\n\u001b[0;32m      3\u001b[0m         \u001b[38;5;28mself\u001b[39m\u001b[38;5;241m.\u001b[39m__nombre \u001b[38;5;241m=\u001b[39m nombre    \n\u001b[0;32m      5\u001b[0m persona1 \u001b[38;5;241m=\u001b[39m Persona(\u001b[38;5;124m\"\u001b[39m\u001b[38;5;124mjuan\u001b[39m\u001b[38;5;124m\"\u001b[39m)      \n\u001b[1;32m----> 6\u001b[0m \u001b[38;5;28mprint\u001b[39m(\u001b[43mpersona1\u001b[49m\u001b[38;5;241;43m.\u001b[39;49m\u001b[43m__nombre\u001b[49m)\n",
      "\u001b[1;31mAttributeError\u001b[0m: 'Persona' object has no attribute '__nombre'"
     ]
    }
   ],
   "source": [
    "class Persona:                  \n",
    "    def __init__(self,nombre):  \n",
    "        self.__nombre = nombre   # Actualizamos el nombre con __ por delante del atributo\n",
    "    \n",
    "persona1 = Persona(\"juan\")      \n",
    "print(persona1.__nombre)"
   ]
  },
  {
   "cell_type": "markdown",
   "metadata": {},
   "source": []
  },
  {
   "cell_type": "markdown",
   "metadata": {},
   "source": []
  }
 ],
 "metadata": {
  "kernelspec": {
   "display_name": "Python 3",
   "language": "python",
   "name": "python3"
  },
  "language_info": {
   "codemirror_mode": {
    "name": "ipython",
    "version": 3
   },
   "file_extension": ".py",
   "mimetype": "text/x-python",
   "name": "python",
   "nbconvert_exporter": "python",
   "pygments_lexer": "ipython3",
   "version": "3.11.0"
  }
 },
 "nbformat": 4,
 "nbformat_minor": 2
}
